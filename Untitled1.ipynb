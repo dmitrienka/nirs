{
 "cells": [
  {
   "cell_type": "code",
   "execution_count": 59,
   "metadata": {},
   "outputs": [
    {
     "name": "stdout",
     "output_type": "stream",
     "text": [
      "\n",
      "x_train:(152411, 4630),float64\n",
      "y_train:(152411, 4630, 2),float32\n",
      "x_test:(500, 4630),float64\n",
      "y_test:(500, 4630, 2),float32\n",
      "\n"
     ]
    }
   ],
   "source": [
    "import numpy as np\n",
    "x_tr = np.load(file='x_train.npy')\n",
    "y_tr = np.load(file='y_train.npy')\n",
    "x_t = np.load(file='x_test.npy')\n",
    "y_t = np.load(file='y_test.npy')\n",
    "print(f\"\"\"\n",
    "x_train:{x_tr.shape},{x_tr.dtype}\n",
    "y_train:{y_tr.shape},{y_tr.dtype}\n",
    "x_test:{x_t.shape},{x_t.dtype}\n",
    "y_test:{y_t.shape},{y_t.dtype}\n",
    "\"\"\")"
   ]
  },
  {
   "cell_type": "code",
   "execution_count": 60,
   "metadata": {},
   "outputs": [],
   "source": [
    "from keras.layers import *\n",
    "from keras import *\n",
    "from keras.optimizers import *\n",
    "from keras.losses import *\n",
    "from keras.metrics import *\n",
    "model = Sequential()\n",
    "model.add(Input(shape=(4630,)))\n",
    "model.add(BatchNormalization())\n",
    "model.add(Dense(300))\n",
    "model.add(BatchNormalization())\n",
    "model.add(Dense(4630*2))\n",
    "model.add(Reshape((4630, -1)))\n",
    "model.add(Softmax())\n",
    "\n",
    "model.compile(loss='categorical_crossentropy', metrics=['categorical_accuracy'], optimizer='adam')"
   ]
  },
  {
   "cell_type": "code",
   "execution_count": null,
   "metadata": {},
   "outputs": [
    {
     "name": "stdout",
     "output_type": "stream",
     "text": [
      "Epoch 1/100\n",
      "4763/4763 [==============================] - 18s 4ms/step - loss: 0.6937 - categorical_accuracy: 0.5075 - val_loss: 0.6926 - val_categorical_accuracy: 0.5078\n",
      "Epoch 2/100\n",
      "4763/4763 [==============================] - 18s 4ms/step - loss: 0.6908 - categorical_accuracy: 0.5167 - val_loss: 0.6921 - val_categorical_accuracy: 0.5100\n",
      "Epoch 3/100\n",
      "4763/4763 [==============================] - 18s 4ms/step - loss: 0.6896 - categorical_accuracy: 0.5215 - val_loss: 0.6920 - val_categorical_accuracy: 0.5114\n",
      "Epoch 4/100\n",
      "4763/4763 [==============================] - 18s 4ms/step - loss: 0.6890 - categorical_accuracy: 0.5240 - val_loss: 0.6921 - val_categorical_accuracy: 0.5113\n",
      "Epoch 5/100\n",
      "4763/4763 [==============================] - 18s 4ms/step - loss: 0.6887 - categorical_accuracy: 0.5254 - val_loss: 0.6921 - val_categorical_accuracy: 0.5116\n",
      "Epoch 6/100\n",
      "4763/4763 [==============================] - 18s 4ms/step - loss: 0.6884 - categorical_accuracy: 0.5264 - val_loss: 0.6924 - val_categorical_accuracy: 0.5115\n",
      "Epoch 7/100\n",
      "4763/4763 [==============================] - 18s 4ms/step - loss: 0.6883 - categorical_accuracy: 0.5271 - val_loss: 0.6925 - val_categorical_accuracy: 0.5118\n",
      "Epoch 8/100\n",
      "4763/4763 [==============================] - 18s 4ms/step - loss: 0.6881 - categorical_accuracy: 0.5276 - val_loss: 0.6928 - val_categorical_accuracy: 0.5117\n",
      "Epoch 9/100\n",
      "4763/4763 [==============================] - 18s 4ms/step - loss: 0.6880 - categorical_accuracy: 0.5280 - val_loss: 0.6925 - val_categorical_accuracy: 0.5117\n",
      "Epoch 10/100\n",
      "4763/4763 [==============================] - 17s 4ms/step - loss: 0.6879 - categorical_accuracy: 0.5283 - val_loss: 0.6928 - val_categorical_accuracy: 0.5122\n",
      "Epoch 11/100\n",
      "4763/4763 [==============================] - 17s 4ms/step - loss: 0.6879 - categorical_accuracy: 0.5286 - val_loss: 0.6929 - val_categorical_accuracy: 0.5114\n",
      "Epoch 12/100\n",
      "4763/4763 [==============================] - 17s 4ms/step - loss: 0.6878 - categorical_accuracy: 0.5289 - val_loss: 0.6928 - val_categorical_accuracy: 0.5115\n",
      "Epoch 13/100\n",
      "4763/4763 [==============================] - 17s 4ms/step - loss: 0.6877 - categorical_accuracy: 0.5291 - val_loss: 0.6930 - val_categorical_accuracy: 0.5112\n",
      "Epoch 14/100\n",
      "4763/4763 [==============================] - 18s 4ms/step - loss: 0.6877 - categorical_accuracy: 0.5293 - val_loss: 0.6929 - val_categorical_accuracy: 0.5117\n",
      "Epoch 15/100\n",
      "4763/4763 [==============================] - 17s 4ms/step - loss: 0.6877 - categorical_accuracy: 0.5295 - val_loss: 0.6928 - val_categorical_accuracy: 0.5115\n",
      "Epoch 16/100\n",
      "4763/4763 [==============================] - 18s 4ms/step - loss: 0.6876 - categorical_accuracy: 0.5296 - val_loss: 0.6929 - val_categorical_accuracy: 0.5119\n",
      "Epoch 17/100\n",
      "4763/4763 [==============================] - 18s 4ms/step - loss: 0.6876 - categorical_accuracy: 0.5298 - val_loss: 0.6929 - val_categorical_accuracy: 0.5115\n",
      "Epoch 18/100\n",
      "4763/4763 [==============================] - 17s 4ms/step - loss: 0.6875 - categorical_accuracy: 0.5299 - val_loss: 0.6931 - val_categorical_accuracy: 0.5114\n",
      "Epoch 19/100\n",
      "4763/4763 [==============================] - 17s 4ms/step - loss: 0.6875 - categorical_accuracy: 0.5300 - val_loss: 0.6930 - val_categorical_accuracy: 0.5116\n",
      "Epoch 20/100\n",
      " 247/4763 [>.............................] - ETA: 15s - loss: 0.6869 - categorical_accuracy: 0.5325"
     ]
    }
   ],
   "source": [
    "history = model.fit(x_tr, y_tr,validation_data=(x_t, y_t), epochs=100)"
   ]
  },
  {
   "cell_type": "code",
   "execution_count": null,
   "metadata": {},
   "outputs": [],
   "source": [
    "import matplotlib.pyplot as plt\n",
    "plt.style.use('seaborn-darkgrid')\n",
    "print(history.history.keys())\n",
    "fig, axes=plt.subplots(2,1, figsize=(20,15))\n",
    "# summarize history for accuracy\n",
    "axes[0].plot(history.history['categorical_accuracy'])\n",
    "axes[0].plot(history.history['val_categorical_accuracy'])\n",
    "axes[0].legend(['train', 'test'], loc='upper left')\n",
    "# summarize history for loss\n",
    "plt.plot(history.history['loss'])\n",
    "plt.plot(history.history['val_loss'])\n",
    "plt.title('model loss')\n",
    "plt.ylabel('loss')\n",
    "plt.xlabel('epoch')\n",
    "plt.legend(['train', 'test'], loc='upper left')\n",
    "plt.tight_layout()\n",
    "plt.show()"
   ]
  },
  {
   "cell_type": "code",
   "execution_count": 58,
   "metadata": {},
   "outputs": [
    {
     "name": "stdout",
     "output_type": "stream",
     "text": [
      "WARNING:tensorflow:From /home/aiglubshev/anaconda3/lib/python3.8/site-packages/tensorflow/python/ops/resource_variable_ops.py:1813: calling BaseResourceVariable.__init__ (from tensorflow.python.ops.resource_variable_ops) with constraint is deprecated and will be removed in a future version.\n",
      "Instructions for updating:\n",
      "If using Keras pass *_constraint arguments to layers.\n",
      "INFO:tensorflow:Assets written to: models/favourite_wife/assets\n"
     ]
    }
   ],
   "source": [
    "model.save('models/favourite_wife_fat')"
   ]
  }
 ],
 "metadata": {
  "kernelspec": {
   "display_name": "Python 3",
   "language": "python",
   "name": "python3"
  },
  "language_info": {
   "codemirror_mode": {
    "name": "ipython",
    "version": 3
   },
   "file_extension": ".py",
   "mimetype": "text/x-python",
   "name": "python",
   "nbconvert_exporter": "python",
   "pygments_lexer": "ipython3",
   "version": "3.8.5"
  }
 },
 "nbformat": 4,
 "nbformat_minor": 4
}

{
 "cells": [
  {
   "cell_type": "code",
   "execution_count": 1,
   "metadata": {
    "ExecuteTime": {
     "end_time": "2020-09-10T18:01:02.666774Z",
     "start_time": "2020-09-10T18:00:58.512802Z"
    },
    "lang": "en",
    "scrolled": true
   },
   "outputs": [],
   "source": [
    "import pandas as pd\n",
    "data = pd.read_csv(\"data/final_data.csv\")"
   ]
  },
  {
   "cell_type": "code",
   "execution_count": 2,
   "metadata": {},
   "outputs": [
    {
     "data": {
      "text/html": [
       "<div>\n",
       "<style scoped>\n",
       "    .dataframe tbody tr th:only-of-type {\n",
       "        vertical-align: middle;\n",
       "    }\n",
       "\n",
       "    .dataframe tbody tr th {\n",
       "        vertical-align: top;\n",
       "    }\n",
       "\n",
       "    .dataframe thead th {\n",
       "        text-align: right;\n",
       "    }\n",
       "</style>\n",
       "<table border=\"1\" class=\"dataframe\">\n",
       "  <thead>\n",
       "    <tr style=\"text-align: right;\">\n",
       "      <th></th>\n",
       "      <th>Unnamed: 0</th>\n",
       "      <th>file</th>\n",
       "      <th>_refln_index_h</th>\n",
       "      <th>_refln_index_k</th>\n",
       "      <th>_refln_index_l</th>\n",
       "      <th>phase_bool</th>\n",
       "      <th>I_calc</th>\n",
       "      <th>_refln_F_squared_meas</th>\n",
       "    </tr>\n",
       "  </thead>\n",
       "  <tbody>\n",
       "    <tr>\n",
       "      <th>0</th>\n",
       "      <td>0</td>\n",
       "      <td>/data/xr-ml/hkls/aa2004.hkl</td>\n",
       "      <td>-10</td>\n",
       "      <td>-10</td>\n",
       "      <td>1</td>\n",
       "      <td>1</td>\n",
       "      <td>0.041705</td>\n",
       "      <td>0.0</td>\n",
       "    </tr>\n",
       "    <tr>\n",
       "      <th>1</th>\n",
       "      <td>1</td>\n",
       "      <td>/data/xr-ml/hkls/aa2004.hkl</td>\n",
       "      <td>-10</td>\n",
       "      <td>-10</td>\n",
       "      <td>2</td>\n",
       "      <td>1</td>\n",
       "      <td>0.011429</td>\n",
       "      <td>0.0</td>\n",
       "    </tr>\n",
       "    <tr>\n",
       "      <th>2</th>\n",
       "      <td>2</td>\n",
       "      <td>/data/xr-ml/hkls/aa2004.hkl</td>\n",
       "      <td>-10</td>\n",
       "      <td>-10</td>\n",
       "      <td>3</td>\n",
       "      <td>1</td>\n",
       "      <td>0.000520</td>\n",
       "      <td>0.0</td>\n",
       "    </tr>\n",
       "    <tr>\n",
       "      <th>3</th>\n",
       "      <td>3</td>\n",
       "      <td>/data/xr-ml/hkls/aa2004.hkl</td>\n",
       "      <td>-10</td>\n",
       "      <td>-10</td>\n",
       "      <td>4</td>\n",
       "      <td>1</td>\n",
       "      <td>0.003150</td>\n",
       "      <td>0.0</td>\n",
       "    </tr>\n",
       "    <tr>\n",
       "      <th>4</th>\n",
       "      <td>4</td>\n",
       "      <td>/data/xr-ml/hkls/aa2004.hkl</td>\n",
       "      <td>-10</td>\n",
       "      <td>-10</td>\n",
       "      <td>5</td>\n",
       "      <td>1</td>\n",
       "      <td>0.000071</td>\n",
       "      <td>0.0</td>\n",
       "    </tr>\n",
       "    <tr>\n",
       "      <th>...</th>\n",
       "      <td>...</td>\n",
       "      <td>...</td>\n",
       "      <td>...</td>\n",
       "      <td>...</td>\n",
       "      <td>...</td>\n",
       "      <td>...</td>\n",
       "      <td>...</td>\n",
       "      <td>...</td>\n",
       "    </tr>\n",
       "    <tr>\n",
       "      <th>34928715</th>\n",
       "      <td>35299115</td>\n",
       "      <td>/data/xr-ml/hkls/zs2327.hkl</td>\n",
       "      <td>10</td>\n",
       "      <td>10</td>\n",
       "      <td>6</td>\n",
       "      <td>1</td>\n",
       "      <td>0.000503</td>\n",
       "      <td>0.0</td>\n",
       "    </tr>\n",
       "    <tr>\n",
       "      <th>34928716</th>\n",
       "      <td>35299116</td>\n",
       "      <td>/data/xr-ml/hkls/zs2327.hkl</td>\n",
       "      <td>10</td>\n",
       "      <td>10</td>\n",
       "      <td>7</td>\n",
       "      <td>1</td>\n",
       "      <td>0.000037</td>\n",
       "      <td>0.0</td>\n",
       "    </tr>\n",
       "    <tr>\n",
       "      <th>34928717</th>\n",
       "      <td>35299117</td>\n",
       "      <td>/data/xr-ml/hkls/zs2327.hkl</td>\n",
       "      <td>10</td>\n",
       "      <td>10</td>\n",
       "      <td>8</td>\n",
       "      <td>0</td>\n",
       "      <td>0.000537</td>\n",
       "      <td>0.0</td>\n",
       "    </tr>\n",
       "    <tr>\n",
       "      <th>34928718</th>\n",
       "      <td>35299118</td>\n",
       "      <td>/data/xr-ml/hkls/zs2327.hkl</td>\n",
       "      <td>10</td>\n",
       "      <td>10</td>\n",
       "      <td>9</td>\n",
       "      <td>1</td>\n",
       "      <td>0.000047</td>\n",
       "      <td>0.0</td>\n",
       "    </tr>\n",
       "    <tr>\n",
       "      <th>34928719</th>\n",
       "      <td>35299119</td>\n",
       "      <td>/data/xr-ml/hkls/zs2327.hkl</td>\n",
       "      <td>10</td>\n",
       "      <td>10</td>\n",
       "      <td>10</td>\n",
       "      <td>1</td>\n",
       "      <td>0.000093</td>\n",
       "      <td>0.0</td>\n",
       "    </tr>\n",
       "  </tbody>\n",
       "</table>\n",
       "<p>34928720 rows × 8 columns</p>\n",
       "</div>"
      ],
      "text/plain": [
       "          Unnamed: 0                         file  _refln_index_h  \\\n",
       "0                  0  /data/xr-ml/hkls/aa2004.hkl             -10   \n",
       "1                  1  /data/xr-ml/hkls/aa2004.hkl             -10   \n",
       "2                  2  /data/xr-ml/hkls/aa2004.hkl             -10   \n",
       "3                  3  /data/xr-ml/hkls/aa2004.hkl             -10   \n",
       "4                  4  /data/xr-ml/hkls/aa2004.hkl             -10   \n",
       "...              ...                          ...             ...   \n",
       "34928715    35299115  /data/xr-ml/hkls/zs2327.hkl              10   \n",
       "34928716    35299116  /data/xr-ml/hkls/zs2327.hkl              10   \n",
       "34928717    35299117  /data/xr-ml/hkls/zs2327.hkl              10   \n",
       "34928718    35299118  /data/xr-ml/hkls/zs2327.hkl              10   \n",
       "34928719    35299119  /data/xr-ml/hkls/zs2327.hkl              10   \n",
       "\n",
       "          _refln_index_k  _refln_index_l  phase_bool    I_calc  \\\n",
       "0                    -10               1           1  0.041705   \n",
       "1                    -10               2           1  0.011429   \n",
       "2                    -10               3           1  0.000520   \n",
       "3                    -10               4           1  0.003150   \n",
       "4                    -10               5           1  0.000071   \n",
       "...                  ...             ...         ...       ...   \n",
       "34928715              10               6           1  0.000503   \n",
       "34928716              10               7           1  0.000037   \n",
       "34928717              10               8           0  0.000537   \n",
       "34928718              10               9           1  0.000047   \n",
       "34928719              10              10           1  0.000093   \n",
       "\n",
       "          _refln_F_squared_meas  \n",
       "0                           0.0  \n",
       "1                           0.0  \n",
       "2                           0.0  \n",
       "3                           0.0  \n",
       "4                           0.0  \n",
       "...                         ...  \n",
       "34928715                    0.0  \n",
       "34928716                    0.0  \n",
       "34928717                    0.0  \n",
       "34928718                    0.0  \n",
       "34928719                    0.0  \n",
       "\n",
       "[34928720 rows x 8 columns]"
      ]
     },
     "execution_count": 2,
     "metadata": {},
     "output_type": "execute_result"
    }
   ],
   "source": [
    "data = data[data.file!='file']\n",
    "data"
   ]
  },
  {
   "cell_type": "code",
   "execution_count": 3,
   "metadata": {},
   "outputs": [],
   "source": [
    "new_data = pd.DataFrame()\n",
    "new_data['file'] = data['file']\n",
    "new_data['h'] = data['_refln_index_h'].astype(float).astype(int)\n",
    "new_data['k'] = data['_refln_index_k'].astype(float).astype(int)\n",
    "new_data['l'] = data['_refln_index_l'].astype(float).astype(int)\n",
    "new_data['I'] = data._refln_F_squared_meas.astype(float)\n",
    "new_data['phase'] = data.phase_bool.astype(float).astype(int)\n",
    "data = new_data"
   ]
  },
  {
   "cell_type": "code",
   "execution_count": 4,
   "metadata": {},
   "outputs": [
    {
     "data": {
      "text/html": [
       "<div>\n",
       "<style scoped>\n",
       "    .dataframe tbody tr th:only-of-type {\n",
       "        vertical-align: middle;\n",
       "    }\n",
       "\n",
       "    .dataframe tbody tr th {\n",
       "        vertical-align: top;\n",
       "    }\n",
       "\n",
       "    .dataframe thead th {\n",
       "        text-align: right;\n",
       "    }\n",
       "</style>\n",
       "<table border=\"1\" class=\"dataframe\">\n",
       "  <thead>\n",
       "    <tr style=\"text-align: right;\">\n",
       "      <th></th>\n",
       "      <th>file</th>\n",
       "      <th>h</th>\n",
       "      <th>k</th>\n",
       "      <th>l</th>\n",
       "      <th>I</th>\n",
       "      <th>phase</th>\n",
       "    </tr>\n",
       "  </thead>\n",
       "  <tbody>\n",
       "    <tr>\n",
       "      <th>0</th>\n",
       "      <td>/data/xr-ml/hkls/aa2004.hkl</td>\n",
       "      <td>-10</td>\n",
       "      <td>-10</td>\n",
       "      <td>1</td>\n",
       "      <td>0.0</td>\n",
       "      <td>1</td>\n",
       "    </tr>\n",
       "    <tr>\n",
       "      <th>1</th>\n",
       "      <td>/data/xr-ml/hkls/aa2004.hkl</td>\n",
       "      <td>-10</td>\n",
       "      <td>-10</td>\n",
       "      <td>2</td>\n",
       "      <td>0.0</td>\n",
       "      <td>1</td>\n",
       "    </tr>\n",
       "    <tr>\n",
       "      <th>2</th>\n",
       "      <td>/data/xr-ml/hkls/aa2004.hkl</td>\n",
       "      <td>-10</td>\n",
       "      <td>-10</td>\n",
       "      <td>3</td>\n",
       "      <td>0.0</td>\n",
       "      <td>1</td>\n",
       "    </tr>\n",
       "    <tr>\n",
       "      <th>3</th>\n",
       "      <td>/data/xr-ml/hkls/aa2004.hkl</td>\n",
       "      <td>-10</td>\n",
       "      <td>-10</td>\n",
       "      <td>4</td>\n",
       "      <td>0.0</td>\n",
       "      <td>1</td>\n",
       "    </tr>\n",
       "    <tr>\n",
       "      <th>4</th>\n",
       "      <td>/data/xr-ml/hkls/aa2004.hkl</td>\n",
       "      <td>-10</td>\n",
       "      <td>-10</td>\n",
       "      <td>5</td>\n",
       "      <td>0.0</td>\n",
       "      <td>1</td>\n",
       "    </tr>\n",
       "    <tr>\n",
       "      <th>...</th>\n",
       "      <td>...</td>\n",
       "      <td>...</td>\n",
       "      <td>...</td>\n",
       "      <td>...</td>\n",
       "      <td>...</td>\n",
       "      <td>...</td>\n",
       "    </tr>\n",
       "    <tr>\n",
       "      <th>34928715</th>\n",
       "      <td>/data/xr-ml/hkls/zs2327.hkl</td>\n",
       "      <td>10</td>\n",
       "      <td>10</td>\n",
       "      <td>6</td>\n",
       "      <td>0.0</td>\n",
       "      <td>1</td>\n",
       "    </tr>\n",
       "    <tr>\n",
       "      <th>34928716</th>\n",
       "      <td>/data/xr-ml/hkls/zs2327.hkl</td>\n",
       "      <td>10</td>\n",
       "      <td>10</td>\n",
       "      <td>7</td>\n",
       "      <td>0.0</td>\n",
       "      <td>1</td>\n",
       "    </tr>\n",
       "    <tr>\n",
       "      <th>34928717</th>\n",
       "      <td>/data/xr-ml/hkls/zs2327.hkl</td>\n",
       "      <td>10</td>\n",
       "      <td>10</td>\n",
       "      <td>8</td>\n",
       "      <td>0.0</td>\n",
       "      <td>0</td>\n",
       "    </tr>\n",
       "    <tr>\n",
       "      <th>34928718</th>\n",
       "      <td>/data/xr-ml/hkls/zs2327.hkl</td>\n",
       "      <td>10</td>\n",
       "      <td>10</td>\n",
       "      <td>9</td>\n",
       "      <td>0.0</td>\n",
       "      <td>1</td>\n",
       "    </tr>\n",
       "    <tr>\n",
       "      <th>34928719</th>\n",
       "      <td>/data/xr-ml/hkls/zs2327.hkl</td>\n",
       "      <td>10</td>\n",
       "      <td>10</td>\n",
       "      <td>10</td>\n",
       "      <td>0.0</td>\n",
       "      <td>1</td>\n",
       "    </tr>\n",
       "  </tbody>\n",
       "</table>\n",
       "<p>34928720 rows × 6 columns</p>\n",
       "</div>"
      ],
      "text/plain": [
       "                                 file   h   k   l    I  phase\n",
       "0         /data/xr-ml/hkls/aa2004.hkl -10 -10   1  0.0      1\n",
       "1         /data/xr-ml/hkls/aa2004.hkl -10 -10   2  0.0      1\n",
       "2         /data/xr-ml/hkls/aa2004.hkl -10 -10   3  0.0      1\n",
       "3         /data/xr-ml/hkls/aa2004.hkl -10 -10   4  0.0      1\n",
       "4         /data/xr-ml/hkls/aa2004.hkl -10 -10   5  0.0      1\n",
       "...                               ...  ..  ..  ..  ...    ...\n",
       "34928715  /data/xr-ml/hkls/zs2327.hkl  10  10   6  0.0      1\n",
       "34928716  /data/xr-ml/hkls/zs2327.hkl  10  10   7  0.0      1\n",
       "34928717  /data/xr-ml/hkls/zs2327.hkl  10  10   8  0.0      0\n",
       "34928718  /data/xr-ml/hkls/zs2327.hkl  10  10   9  0.0      1\n",
       "34928719  /data/xr-ml/hkls/zs2327.hkl  10  10  10  0.0      1\n",
       "\n",
       "[34928720 rows x 6 columns]"
      ]
     },
     "execution_count": 4,
     "metadata": {},
     "output_type": "execute_result"
    }
   ],
   "source": [
    "data"
   ]
  },
  {
   "cell_type": "code",
   "execution_count": 5,
   "metadata": {
    "ExecuteTime": {
     "end_time": "2020-09-10T18:01:22.085901Z",
     "start_time": "2020-09-10T18:01:04.593496Z"
    }
   },
   "outputs": [],
   "source": [
    "data = data.groupby(['file','h', 'k', 'l']).mean().reset_index()\n",
    "data = data.sample(frac=1).reset_index(drop=True)\n",
    "data['R'] = data.h*data.h + data.k*data.k + data.l*data.l\n",
    "#data = data[data.R<50]\n",
    "data['phase'] = data.phase.astype(float).astype(int)"
   ]
  },
  {
   "cell_type": "code",
   "execution_count": 6,
   "metadata": {
    "ExecuteTime": {
     "end_time": "2020-09-10T18:02:04.565726Z",
     "start_time": "2020-09-10T18:02:03.797653Z"
    }
   },
   "outputs": [
    {
     "data": {
      "text/html": [
       "<div>\n",
       "<style scoped>\n",
       "    .dataframe tbody tr th:only-of-type {\n",
       "        vertical-align: middle;\n",
       "    }\n",
       "\n",
       "    .dataframe tbody tr th {\n",
       "        vertical-align: top;\n",
       "    }\n",
       "\n",
       "    .dataframe thead th {\n",
       "        text-align: right;\n",
       "    }\n",
       "</style>\n",
       "<table border=\"1\" class=\"dataframe\">\n",
       "  <thead>\n",
       "    <tr style=\"text-align: right;\">\n",
       "      <th></th>\n",
       "      <th>file</th>\n",
       "      <th>h</th>\n",
       "      <th>k</th>\n",
       "      <th>l</th>\n",
       "      <th>I</th>\n",
       "      <th>R</th>\n",
       "    </tr>\n",
       "    <tr>\n",
       "      <th>phase</th>\n",
       "      <th></th>\n",
       "      <th></th>\n",
       "      <th></th>\n",
       "      <th></th>\n",
       "      <th></th>\n",
       "      <th></th>\n",
       "    </tr>\n",
       "  </thead>\n",
       "  <tbody>\n",
       "    <tr>\n",
       "      <th>0</th>\n",
       "      <td>17769206</td>\n",
       "      <td>17769206</td>\n",
       "      <td>17769206</td>\n",
       "      <td>17769206</td>\n",
       "      <td>17769206</td>\n",
       "      <td>17769206</td>\n",
       "    </tr>\n",
       "    <tr>\n",
       "      <th>1</th>\n",
       "      <td>17159514</td>\n",
       "      <td>17159514</td>\n",
       "      <td>17159514</td>\n",
       "      <td>17159514</td>\n",
       "      <td>17159514</td>\n",
       "      <td>17159514</td>\n",
       "    </tr>\n",
       "  </tbody>\n",
       "</table>\n",
       "</div>"
      ],
      "text/plain": [
       "           file         h         k         l         I         R\n",
       "phase                                                            \n",
       "0      17769206  17769206  17769206  17769206  17769206  17769206\n",
       "1      17159514  17159514  17159514  17159514  17159514  17159514"
      ]
     },
     "execution_count": 6,
     "metadata": {},
     "output_type": "execute_result"
    }
   ],
   "source": [
    "data.groupby('phase').agg('count')"
   ]
  },
  {
   "cell_type": "code",
   "execution_count": 7,
   "metadata": {},
   "outputs": [
    {
     "data": {
      "text/plain": [
       "7544"
      ]
     },
     "execution_count": 7,
     "metadata": {},
     "output_type": "execute_result"
    }
   ],
   "source": [
    "len(data.file.unique())"
   ]
  },
  {
   "cell_type": "markdown",
   "metadata": {
    "ExecuteTime": {
     "end_time": "2020-08-13T21:53:05.256899Z",
     "start_time": "2020-08-13T21:52:30.417131Z"
    }
   },
   "source": [
    "Посмотрим на соотношение нулей и единиц в файлах"
   ]
  },
  {
   "cell_type": "code",
   "execution_count": 8,
   "metadata": {
    "ExecuteTime": {
     "end_time": "2020-09-10T18:02:34.787071Z",
     "start_time": "2020-09-10T18:02:13.924637Z"
    }
   },
   "outputs": [
    {
     "data": {
      "application/vnd.jupyter.widget-view+json": {
       "model_id": "64d405e750864e4eb926e4b74142007e",
       "version_major": 2,
       "version_minor": 0
      },
      "text/plain": [
       "IntProgress(value=0)"
      ]
     },
     "metadata": {},
     "output_type": "display_data"
    },
    {
     "name": "stdout",
     "output_type": "stream",
     "text": [
      "0.41555075593952484 1.0\n"
     ]
    },
    {
     "data": {
      "text/plain": [
       "Text(0, 0.5, 'N_files')"
      ]
     },
     "execution_count": 8,
     "metadata": {},
     "output_type": "execute_result"
    },
    {
     "data": {
      "image/png": "[encoded data removed]",
      "text/plain": [
       "<Figure size 432x288 with 1 Axes>"
      ]
     },
     "metadata": {
      "needs_background": "light"
     },
     "output_type": "display_data"
    }
   ],
   "source": [
    "import numpy as np\n",
    "from ipywidgets import IntProgress\n",
    "from IPython.display import display\n",
    "import matplotlib.pyplot as plt\n",
    "\n",
    "grouped = data.groupby('file')\n",
    "groups = [df for name,df in grouped]\n",
    "arr = []\n",
    "i=0\n",
    "\n",
    "progress = IntProgress(min=0)\n",
    "display(progress)\n",
    "for file_df in groups:\n",
    "    i+=1\n",
    "    n_0 = file_df[file_df.phase==0].h.size\n",
    "    n_1 = file_df[file_df.phase==1].h.size\n",
    "    #print(i, n_0, n_1,rat)\n",
    "    #TODO add params\n",
    "    rat = n_0/(n_1+n_0)\n",
    "    arr.append(rat)\n",
    "    progress.value=i\n",
    "arr = np.array(arr)\n",
    "print(arr.min(), arr.max())\n",
    "plt.hist(arr, alpha=0.5, bins=100, color='red')\n",
    "plt.title('Distribution of ratio zeros/ones per file')\n",
    "plt.xlabel('ratio=n_0/(n_0+n_1)')\n",
    "plt.ylabel('N_files')"
   ]
  },
  {
   "cell_type": "markdown",
   "metadata": {},
   "source": [
    "# Создаем X и Y для обучения"
   ]
  },
  {
   "cell_type": "markdown",
   "metadata": {},
   "source": [
    "Для обучения требуются два массива, X:float - (N,4630) и Y:int - (N, 4630). Создаем их:"
   ]
  },
  {
   "cell_type": "code",
   "execution_count": 9,
   "metadata": {
    "ExecuteTime": {
     "end_time": "2020-09-10T18:03:55.689856Z",
     "start_time": "2020-09-10T18:03:54.969293Z"
    }
   },
   "outputs": [
    {
     "data": {
      "application/vnd.jupyter.widget-view+json": {
       "model_id": "5f962c332e844301afadc72c534ec0a6",
       "version_major": 2,
       "version_minor": 0
      },
      "text/plain": [
       "IntProgress(value=0, max=7544)"
      ]
     },
     "metadata": {},
     "output_type": "display_data"
    }
   ],
   "source": [
    "from ipywidgets import IntProgress\n",
    "from IPython.display import display\n",
    "\n",
    "x_arr = []\n",
    "y_arr = []\n",
    "\n",
    "progress = IntProgress(min=0, max=len(groups))\n",
    "display(progress)\n",
    "\n",
    "i=0\n",
    "for df in groups:\n",
    "    i+=1\n",
    "    progress.value=i\n",
    "    if len(df.h)!=4630: continue\n",
    "    df.I = df.I.astype(float)/df.I.astype(float).max()\n",
    "    sorted = df.sort_values(by=['R', 'h', 'k', 'l'])\n",
    "    x_arr.append(np.array(sorted.I))\n",
    "    y_arr.append(np.array(sorted.phase))"
   ]
  },
  {
   "cell_type": "code",
   "execution_count": 10,
   "metadata": {},
   "outputs": [],
   "source": [
    "del(data)\n",
    "del(grouped)"
   ]
  },
  {
   "cell_type": "markdown",
   "metadata": {},
   "source": [
    "Посмотрим на то что получилось"
   ]
  },
  {
   "cell_type": "code",
   "execution_count": 11,
   "metadata": {
    "ExecuteTime": {
     "end_time": "2020-09-10T18:05:50.815530Z",
     "start_time": "2020-09-10T18:05:49.121526Z"
    }
   },
   "outputs": [
    {
     "name": "stdout",
     "output_type": "stream",
     "text": [
      "\n",
      "X: (7544, 4630)\n",
      "Y: (7544, 4630)\n",
      "\n"
     ]
    }
   ],
   "source": [
    "from keras.utils import to_categorical\n",
    "x_arr = np.array(x_arr, dtype=float)\n",
    "y_arr = np.array(y_arr, dtype=float)\n",
    "print(f\"\"\"\n",
    "X: {x_arr.shape}\n",
    "Y: {y_arr.shape}\n",
    "\"\"\")"
   ]
  },
  {
   "cell_type": "code",
   "execution_count": 12,
   "metadata": {},
   "outputs": [],
   "source": [
    "y_arr = to_categorical(y_arr)[:,:709]"
   ]
  },
  {
   "cell_type": "code",
   "execution_count": 13,
   "metadata": {
    "ExecuteTime": {
     "end_time": "2020-09-10T18:06:06.958954Z",
     "start_time": "2020-09-10T18:06:06.891699Z"
    }
   },
   "outputs": [
    {
     "name": "stdout",
     "output_type": "stream",
     "text": [
      "\n",
      "X: (7544, 4630)\n",
      "Y: (7544, 709, 2)\n",
      "\n"
     ]
    }
   ],
   "source": [
    "print(f\"\"\"\n",
    "X: {x_arr.shape}\n",
    "Y: {y_arr.shape}\n",
    "\"\"\")"
   ]
  },
  {
   "cell_type": "markdown",
   "metadata": {
    "ExecuteTime": {
     "end_time": "2020-08-02T11:44:34.444487Z",
     "start_time": "2020-08-02T11:44:34.114228Z"
    }
   },
   "source": [
    "# Создаем модель"
   ]
  },
  {
   "cell_type": "code",
   "execution_count": 14,
   "metadata": {
    "ExecuteTime": {
     "end_time": "2020-09-13T13:07:29.437311Z",
     "start_time": "2020-09-13T13:07:28.869835Z"
    }
   },
   "outputs": [],
   "source": [
    "import keras\n",
    "model = keras.models.load_model('models/favourite_wife/')"
   ]
  },
  {
   "cell_type": "code",
   "execution_count": 15,
   "metadata": {
    "ExecuteTime": {
     "end_time": "2020-08-19T07:54:18.510336Z",
     "start_time": "2020-08-19T07:54:18.395993Z"
    }
   },
   "outputs": [
    {
     "name": "stdout",
     "output_type": "stream",
     "text": [
      "Model: \"sequential_16\"\n",
      "_________________________________________________________________\n",
      "Layer (type)                 Output Shape              Param #   \n",
      "=================================================================\n",
      "batch_normalization_22 (Batc (None, 4630)              18520     \n",
      "_________________________________________________________________\n",
      "dense_24 (Dense)             (None, 300)               1389300   \n",
      "_________________________________________________________________\n",
      "batch_normalization_23 (Batc (None, 300)               1200      \n",
      "_________________________________________________________________\n",
      "dense_25 (Dense)             (None, 1418)              426818    \n",
      "_________________________________________________________________\n",
      "reshape_3 (Reshape)          (None, 709, None)         0         \n",
      "_________________________________________________________________\n",
      "softmax_10 (Softmax)         (None, 709, None)         0         \n",
      "=================================================================\n",
      "Total params: 1,835,838\n",
      "Trainable params: 1,825,978\n",
      "Non-trainable params: 9,860\n",
      "_________________________________________________________________\n"
     ]
    }
   ],
   "source": [
    "model.summary()"
   ]
  },
  {
   "cell_type": "code",
   "execution_count": 24,
   "metadata": {},
   "outputs": [
    {
     "name": "stdout",
     "output_type": "stream",
     "text": [
      "Epoch 1/5\n",
      "110/110 [==============================] - 4s 34ms/step - loss: 0.6875 - categorical_accuracy: 0.5337\n",
      "Epoch 2/5\n",
      "110/110 [==============================] - 4s 40ms/step - loss: 0.6860 - categorical_accuracy: 0.5401\n",
      "Epoch 3/5\n",
      "110/110 [==============================] - 5s 42ms/step - loss: 0.6842 - categorical_accuracy: 0.5461\n",
      "Epoch 4/5\n",
      "110/110 [==============================] - 5s 41ms/step - loss: 0.6822 - categorical_accuracy: 0.5524\n",
      "Epoch 5/5\n",
      "110/110 [==============================] - 5s 46ms/step - loss: 0.6801 - categorical_accuracy: 0.5578\n"
     ]
    },
    {
     "data": {
      "text/plain": [
       "<tensorflow.python.keras.callbacks.History at 0x7fa53835c5b0>"
      ]
     },
     "execution_count": 24,
     "metadata": {},
     "output_type": "execute_result"
    }
   ],
   "source": [
    "model.fit(x_arr[:3500], y_arr[:3500], epochs=5)"
   ]
  },
  {
   "cell_type": "code",
   "execution_count": 25,
   "metadata": {},
   "outputs": [
    {
     "name": "stdout",
     "output_type": "stream",
     "text": [
      "127/127 [==============================] - 2s 18ms/step - loss: 0.7001 - categorical_accuracy: 0.5122\n"
     ]
    },
    {
     "data": {
      "text/plain": [
       "[0.7000636458396912, 0.5121990442276001]"
      ]
     },
     "execution_count": 25,
     "metadata": {},
     "output_type": "execute_result"
    }
   ],
   "source": [
    "model.evaluate(x_arr[3500:], y_arr[3500:])"
   ]
  }
 ],
 "metadata": {
  "hide_input": false,
  "kernelspec": {
   "display_name": "Python 3",
   "language": "python",
   "name": "python3"
  },
  "language_info": {
   "codemirror_mode": {
    "name": "ipython",
    "version": 3
   },
   "file_extension": ".py",
   "mimetype": "text/x-python",
   "name": "python",
   "nbconvert_exporter": "python",
   "pygments_lexer": "ipython3",
   "version": "3.8.3"
  },
  "latex_envs": {
   "LaTeX_envs_menu_present": true,
   "autoclose": true,
   "autocomplete": true,
   "bibliofile": "biblio.bib",
   "cite_by": "apalike",
   "current_citInitial": 1,
   "eqLabelWithNumbers": true,
   "eqNumInitial": 1,
   "hotkeys": {
    "equation": "Ctrl-E",
    "itemize": "Ctrl-I"
   },
   "labels_anchors": false,
   "latex_user_defs": false,
   "report_style_numbering": false,
   "user_envs_cfg": false
  },
  "nbTranslate": {
   "displayLangs": [
    "*"
   ],
   "hotkey": "alt-t",
   "langInMainMenu": true,
   "sourceLang": "en",
   "targetLang": "fr",
   "useGoogleTranslate": true
  },
  "toc": {
   "base_numbering": 1,
   "nav_menu": {},
   "number_sections": true,
   "sideBar": true,
   "skip_h1_title": false,
   "title_cell": "Table of Contents",
   "title_sidebar": "Contents",
   "toc_cell": false,
   "toc_position": {},
   "toc_section_display": true,
   "toc_window_display": false
  },
  "varInspector": {
   "cols": {
    "lenName": 16,
    "lenType": 16,
    "lenVar": 40
   },
   "kernels_config": {
    "python": {
     "delete_cmd_postfix": "",
     "delete_cmd_prefix": "del ",
     "library": "var_list.py",
     "varRefreshCmd": "print(var_dic_list())"
    },
    "r": {
     "delete_cmd_postfix": ") ",
     "delete_cmd_prefix": "rm(",
     "library": "var_list.r",
     "varRefreshCmd": "cat(var_dic_list()) "
    }
   },
   "types_to_exclude": [
    "module",
    "function",
    "builtin_function_or_method",
    "instance",
    "_Feature"
   ],
   "window_display": false
  }
 },
 "nbformat": 4,
 "nbformat_minor": 4
}

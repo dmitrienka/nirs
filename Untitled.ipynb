{
 "cells": [
  {
   "cell_type": "code",
   "execution_count": 1,
   "metadata": {},
   "outputs": [
    {
     "name": "stdout",
     "output_type": "stream",
     "text": [
      "\n",
      "x_train:(152411, 4630),float64\n",
      "y_train:(152411, 4630, 2),float32\n",
      "x_test:(500, 4630),float64\n",
      "y_test:(500, 4630, 2),float32\n",
      "\n"
     ]
    }
   ],
   "source": [
    "import numpy as np\n",
    "x_train = np.load(file='x_train.npy')\n",
    "y_train = np.load(file='y_train.npy')\n",
    "x_test = np.load(file='x_test.npy')\n",
    "y_test = np.load(file='y_test.npy')\n",
    "print(f\"\"\"\n",
    "x_train:{x_train.shape},{x_train.dtype}\n",
    "y_train:{y_train.shape},{y_train.dtype}\n",
    "x_test:{x_test.shape},{x_test.dtype}\n",
    "y_test:{y_test.shape},{y_test.dtype}\n",
    "\"\"\")"
   ]
  },
  {
   "cell_type": "code",
   "execution_count": 2,
   "metadata": {},
   "outputs": [],
   "source": [
    "def show_progress(results):\n",
    "    plt.style.use('seaborn-darkgrid')\n",
    "    fig, axes = plt.subplots(2, 2, figsize=[20,20])\n",
    "    plt.xlabel('Learning epoch')\n",
    "    test_loss_arr = [i[0] for i in results]\n",
    "    test_acc_arr = [i[1] for i in results]\n",
    "\n",
    "    train_loss_arr = [i[2] for i in results]\n",
    "    train_acc_arr = [i[3] for i in results]\n",
    "\n",
    "    axes[0][0].title.set_text('Accuracy Test')\n",
    "    axes[0][0].set_ylabel('Cor, part')\n",
    "    axes[0][0].plot(test_acc_arr, color='red')\n",
    "    axes[0][1].title.set_text('Loss function Test')\n",
    "    axes[0][1].set_ylabel('Acc')\n",
    "    axes[0][1].plot(test_loss_arr, color='red')\n",
    "\n",
    "\n",
    "\n",
    "    axes[1][0].title.set_text('Accuracy Train')\n",
    "    axes[1][0].set_ylabel('Cor, part')\n",
    "    axes[1][0].plot(train_acc_arr, color='green')\n",
    "    axes[1][1].title.set_text('Loss function Train')\n",
    "    axes[1][1].set_ylabel('Acc')\n",
    "    axes[1][1].plot(train_loss_arr, color='green')\n",
    "    plt.show()\n",
    "    \n",
    "def show_progress_on_one(results):\n",
    "    plt.style.use('seaborn-darkgrid')\n",
    "    fig, axes = plt.subplots(2, figsize=[10,20])\n",
    "    plt.xlabel('Learning epoch')\n",
    "    test_loss_arr = [i[0] for i in results]\n",
    "    test_acc_arr = [i[1] for i in results]\n",
    "\n",
    "    train_loss_arr = [i[2] for i in results]\n",
    "    train_acc_arr = [i[3] for i in results]\n",
    "\n",
    "    axes[0].title.set_text('Accuracy')\n",
    "    axes[0].set_ylabel('Cor, part')\n",
    "    axes[0].plot(test_acc_arr, color='red', label='test')\n",
    "    axes[1].title.set_text('Loss function')\n",
    "    axes[1].set_ylabel('Acc')\n",
    "    axes[1].plot(test_loss_arr, color='red',label='test')\n",
    "    \n",
    "    axes[0].plot(train_acc_arr, color='green', label='train')\n",
    "    axes[1].plot(train_loss_arr, color='green', label='train')\n",
    "    plt.legend()\n",
    "    plt.show()"
   ]
  },
  {
   "cell_type": "code",
   "execution_count": 10,
   "metadata": {},
   "outputs": [
    {
     "name": "stdout",
     "output_type": "stream",
     "text": [
      "True\n"
     ]
    },
    {
     "ename": "OperatorNotAllowedInGraphError",
     "evalue": "using a `tf.Tensor` as a Python `bool` is not allowed in Graph execution. Use Eager execution or decorate this function with @tf.function.",
     "output_type": "error",
     "traceback": [
      "\u001b[0;31m---------------------------------------------------------------------------\u001b[0m",
      "\u001b[0;31mOperatorNotAllowedInGraphError\u001b[0m            Traceback (most recent call last)",
      "\u001b[0;32m<ipython-input-10-8d9c11e151e8>\u001b[0m in \u001b[0;36m<module>\u001b[0;34m\u001b[0m\n\u001b[1;32m     29\u001b[0m     \u001b[0;32mreturn\u001b[0m \u001b[0mmodel\u001b[0m\u001b[0;34m\u001b[0m\u001b[0;34m\u001b[0m\u001b[0m\n\u001b[1;32m     30\u001b[0m \u001b[0;34m\u001b[0m\u001b[0m\n\u001b[0;32m---> 31\u001b[0;31m \u001b[0mmodel\u001b[0m \u001b[0;34m=\u001b[0m \u001b[0mget_model\u001b[0m\u001b[0;34m(\u001b[0m\u001b[0;36m100\u001b[0m\u001b[0;34m)\u001b[0m\u001b[0;34m\u001b[0m\u001b[0;34m\u001b[0m\u001b[0m\n\u001b[0m\u001b[1;32m     32\u001b[0m \u001b[0mmodel\u001b[0m\u001b[0;34m.\u001b[0m\u001b[0msummary\u001b[0m\u001b[0;34m(\u001b[0m\u001b[0;34m)\u001b[0m\u001b[0;34m\u001b[0m\u001b[0;34m\u001b[0m\u001b[0m\n\u001b[1;32m     33\u001b[0m \u001b[0mmodel\u001b[0m\u001b[0;34m.\u001b[0m\u001b[0mfit\u001b[0m\u001b[0;34m(\u001b[0m\u001b[0mx_train\u001b[0m\u001b[0;34m,\u001b[0m \u001b[0mx_train\u001b[0m\u001b[0;34m)\u001b[0m\u001b[0;34m\u001b[0m\u001b[0;34m\u001b[0m\u001b[0m\n",
      "\u001b[0;32m<ipython-input-10-8d9c11e151e8>\u001b[0m in \u001b[0;36mget_model\u001b[0;34m(N)\u001b[0m\n\u001b[1;32m     26\u001b[0m     \u001b[0mout\u001b[0m \u001b[0;34m=\u001b[0m \u001b[0mDense\u001b[0m\u001b[0;34m(\u001b[0m\u001b[0;36m4630\u001b[0m\u001b[0;34m,\u001b[0m \u001b[0mactivation\u001b[0m\u001b[0;34m=\u001b[0m\u001b[0;34m'sigmoid'\u001b[0m\u001b[0;34m)\u001b[0m\u001b[0;34m(\u001b[0m\u001b[0minp2\u001b[0m\u001b[0;34m)\u001b[0m\u001b[0;34m\u001b[0m\u001b[0;34m\u001b[0m\u001b[0m\n\u001b[1;32m     27\u001b[0m     \u001b[0mmodel\u001b[0m \u001b[0;34m=\u001b[0m \u001b[0mModel\u001b[0m\u001b[0;34m(\u001b[0m\u001b[0minputs\u001b[0m\u001b[0;34m=\u001b[0m\u001b[0;34m[\u001b[0m\u001b[0minp\u001b[0m\u001b[0;34m]\u001b[0m\u001b[0;34m,\u001b[0m \u001b[0moutputs\u001b[0m\u001b[0;34m=\u001b[0m\u001b[0;34m[\u001b[0m\u001b[0mout\u001b[0m\u001b[0;34m]\u001b[0m\u001b[0;34m)\u001b[0m\u001b[0;34m\u001b[0m\u001b[0;34m\u001b[0m\u001b[0m\n\u001b[0;32m---> 28\u001b[0;31m     \u001b[0mmodel\u001b[0m\u001b[0;34m.\u001b[0m\u001b[0mcompile\u001b[0m\u001b[0;34m(\u001b[0m\u001b[0mloss\u001b[0m\u001b[0;34m=\u001b[0m\u001b[0mmy_mse\u001b[0m\u001b[0;34m(\u001b[0m\u001b[0minp\u001b[0m\u001b[0;34m,\u001b[0m \u001b[0mout\u001b[0m\u001b[0;34m)\u001b[0m\u001b[0;34m,\u001b[0m \u001b[0moptimizer\u001b[0m\u001b[0;34m=\u001b[0m\u001b[0;34m'sgd'\u001b[0m\u001b[0;34m)\u001b[0m\u001b[0;34m\u001b[0m\u001b[0;34m\u001b[0m\u001b[0m\n\u001b[0m\u001b[1;32m     29\u001b[0m     \u001b[0;32mreturn\u001b[0m \u001b[0mmodel\u001b[0m\u001b[0;34m\u001b[0m\u001b[0;34m\u001b[0m\u001b[0m\n\u001b[1;32m     30\u001b[0m \u001b[0;34m\u001b[0m\u001b[0m\n",
      "\u001b[0;32m~/anaconda3/lib/python3.8/site-packages/tensorflow/python/keras/engine/training.py\u001b[0m in \u001b[0;36mcompile\u001b[0;34m(self, optimizer, loss, metrics, loss_weights, sample_weight_mode, weighted_metrics, **kwargs)\u001b[0m\n\u001b[1;32m    336\u001b[0m       \u001b[0mself\u001b[0m\u001b[0;34m.\u001b[0m\u001b[0m_is_compiled\u001b[0m \u001b[0;34m=\u001b[0m \u001b[0;32mTrue\u001b[0m\u001b[0;34m\u001b[0m\u001b[0;34m\u001b[0m\u001b[0m\n\u001b[1;32m    337\u001b[0m \u001b[0;34m\u001b[0m\u001b[0m\n\u001b[0;32m--> 338\u001b[0;31m       \u001b[0mself\u001b[0m\u001b[0;34m.\u001b[0m\u001b[0mloss\u001b[0m \u001b[0;34m=\u001b[0m \u001b[0mloss\u001b[0m \u001b[0;32mor\u001b[0m \u001b[0;34m{\u001b[0m\u001b[0;34m}\u001b[0m  \u001b[0;31m# Backwards compat.\u001b[0m\u001b[0;34m\u001b[0m\u001b[0;34m\u001b[0m\u001b[0m\n\u001b[0m\u001b[1;32m    339\u001b[0m \u001b[0;34m\u001b[0m\u001b[0m\n\u001b[1;32m    340\u001b[0m   \u001b[0;32mdef\u001b[0m \u001b[0m_get_optimizer\u001b[0m\u001b[0;34m(\u001b[0m\u001b[0mself\u001b[0m\u001b[0;34m,\u001b[0m \u001b[0moptimizer\u001b[0m\u001b[0;34m)\u001b[0m\u001b[0;34m:\u001b[0m\u001b[0;34m\u001b[0m\u001b[0;34m\u001b[0m\u001b[0m\n",
      "\u001b[0;32m~/anaconda3/lib/python3.8/site-packages/tensorflow/python/framework/ops.py\u001b[0m in \u001b[0;36m__bool__\u001b[0;34m(self)\u001b[0m\n\u001b[1;32m    776\u001b[0m       \u001b[0;31m`\u001b[0m\u001b[0mTypeError\u001b[0m\u001b[0;31m`\u001b[0m\u001b[0;34m.\u001b[0m\u001b[0;34m\u001b[0m\u001b[0;34m\u001b[0m\u001b[0m\n\u001b[1;32m    777\u001b[0m     \"\"\"\n\u001b[0;32m--> 778\u001b[0;31m     \u001b[0mself\u001b[0m\u001b[0;34m.\u001b[0m\u001b[0m_disallow_bool_casting\u001b[0m\u001b[0;34m(\u001b[0m\u001b[0;34m)\u001b[0m\u001b[0;34m\u001b[0m\u001b[0;34m\u001b[0m\u001b[0m\n\u001b[0m\u001b[1;32m    779\u001b[0m \u001b[0;34m\u001b[0m\u001b[0m\n\u001b[1;32m    780\u001b[0m   \u001b[0;32mdef\u001b[0m \u001b[0m__nonzero__\u001b[0m\u001b[0;34m(\u001b[0m\u001b[0mself\u001b[0m\u001b[0;34m)\u001b[0m\u001b[0;34m:\u001b[0m\u001b[0;34m\u001b[0m\u001b[0;34m\u001b[0m\u001b[0m\n",
      "\u001b[0;32m~/anaconda3/lib/python3.8/site-packages/tensorflow/python/framework/ops.py\u001b[0m in \u001b[0;36m_disallow_bool_casting\u001b[0;34m(self)\u001b[0m\n\u001b[1;32m    546\u001b[0m     \u001b[0;32melse\u001b[0m\u001b[0;34m:\u001b[0m\u001b[0;34m\u001b[0m\u001b[0;34m\u001b[0m\u001b[0m\n\u001b[1;32m    547\u001b[0m       \u001b[0;31m# Default: V1-style Graph execution.\u001b[0m\u001b[0;34m\u001b[0m\u001b[0;34m\u001b[0m\u001b[0;34m\u001b[0m\u001b[0m\n\u001b[0;32m--> 548\u001b[0;31m       \u001b[0mself\u001b[0m\u001b[0;34m.\u001b[0m\u001b[0m_disallow_in_graph_mode\u001b[0m\u001b[0;34m(\u001b[0m\u001b[0;34m\"using a `tf.Tensor` as a Python `bool`\"\u001b[0m\u001b[0;34m)\u001b[0m\u001b[0;34m\u001b[0m\u001b[0;34m\u001b[0m\u001b[0m\n\u001b[0m\u001b[1;32m    549\u001b[0m \u001b[0;34m\u001b[0m\u001b[0m\n\u001b[1;32m    550\u001b[0m   \u001b[0;32mdef\u001b[0m \u001b[0m_disallow_iteration\u001b[0m\u001b[0;34m(\u001b[0m\u001b[0mself\u001b[0m\u001b[0;34m)\u001b[0m\u001b[0;34m:\u001b[0m\u001b[0;34m\u001b[0m\u001b[0;34m\u001b[0m\u001b[0m\n",
      "\u001b[0;32m~/anaconda3/lib/python3.8/site-packages/tensorflow/python/framework/ops.py\u001b[0m in \u001b[0;36m_disallow_in_graph_mode\u001b[0;34m(self, task)\u001b[0m\n\u001b[1;32m    533\u001b[0m \u001b[0;34m\u001b[0m\u001b[0m\n\u001b[1;32m    534\u001b[0m   \u001b[0;32mdef\u001b[0m \u001b[0m_disallow_in_graph_mode\u001b[0m\u001b[0;34m(\u001b[0m\u001b[0mself\u001b[0m\u001b[0;34m,\u001b[0m \u001b[0mtask\u001b[0m\u001b[0;34m)\u001b[0m\u001b[0;34m:\u001b[0m\u001b[0;34m\u001b[0m\u001b[0;34m\u001b[0m\u001b[0m\n\u001b[0;32m--> 535\u001b[0;31m     raise errors.OperatorNotAllowedInGraphError(\n\u001b[0m\u001b[1;32m    536\u001b[0m         \u001b[0;34m\"{} is not allowed in Graph execution. Use Eager execution or decorate\"\u001b[0m\u001b[0;34m\u001b[0m\u001b[0;34m\u001b[0m\u001b[0m\n\u001b[1;32m    537\u001b[0m         \" this function with @tf.function.\".format(task))\n",
      "\u001b[0;31mOperatorNotAllowedInGraphError\u001b[0m: using a `tf.Tensor` as a Python `bool` is not allowed in Graph execution. Use Eager execution or decorate this function with @tf.function."
     ]
    }
   ],
   "source": [
    "from keras.models import Sequential\n",
    "from keras.layers import Dense, Dropout, Softmax, Reshape\n",
    "from tensorflow.keras.losses import *\n",
    "from tensorflow.keras.metrics import *\n",
    "from tensorflow.keras.optimizers import SGD\n",
    "import tensorflow as tf\n",
    "from tensorflow.keras import *\n",
    "import keras.backend as K\n",
    "tf.keras.backend.clear_session()\n",
    "print(tf.executing_eagerly())\n",
    "tf.compat.v1.variable_scope\n",
    "\n",
    "def my_mse(yTrue,yPred):\n",
    "\n",
    "    ones = K.ones_like(yTrue[0,:]) #a simple vector with ones shaped as (60,)\n",
    "    idx = K.cumsum(ones) #similar to a 'range(1,61)'\n",
    "\n",
    "\n",
    "    return K.mean((1/idx)*K.square(yTrue-yPred))\n",
    "    return wmse\n",
    "\n",
    "\n",
    "def get_model(N):\n",
    "    inp = Input(4630)\n",
    "    inp2 = Dense(N, activation='relu', input_shape=[4630])(inp)\n",
    "    out = Dense(4630, activation='sigmoid')(inp2)\n",
    "    model = Model(inputs=[inp], outputs=[out])\n",
    "    model.compile(loss=my_mse(inp, out), optimizer='sgd')\n",
    "    return model\n",
    "\n",
    "model = get_model(100)\n",
    "model.summary()\n",
    "model.fit(x_train, x_train)\n",
    "\n",
    "\n",
    "def learn(model):\n",
    "    epochs = 1\n",
    "    results = []\n",
    "    for i in range(epochs):\n",
    "        model.fit(x=x_train, y=x_train, epochs=1, validation_split=0.1)\n",
    "        res = model.evaluate(x=x_test[:1000], y=x_test[:1000])+model.evaluate(x=x_train[:1000], y=x_train[:1000])\n",
    "        print(f\"Epoch: {i}\")\n",
    "        results.append(res)\n",
    "    return results"
   ]
  },
  {
   "cell_type": "code",
   "execution_count": null,
   "metadata": {},
   "outputs": [],
   "source": [
    "from datetime import datetime\n",
    "import matplotlib.pyplot as plt\n",
    "from keras.optimizers import Adam, SGD\n",
    "from IPython.display import clear_output\n",
    "\n",
    "\n",
    "for N in [100,250,500,1000]:\n",
    "   \n",
    "    model = get_model(N)\n",
    "    results=[]\n",
    "    for _ in range(500):\n",
    "        results+=learn(model)\n",
    "        if len(results)%10==0:\n",
    "            show_progress_on_one(results)\n",
    "                \n",
    "        if len(results)%10==0:\n",
    "            try:\n",
    "                print(f\"\"\"N={N}, len={len(results)}\"\"\")\n",
    "                r = pd.DataFrame(results,columns=['testloss', 'testacc', 'trainloss', 'trainacc'])\n",
    "                r.to_csv(f'results/autoenc150k{N}n500.csv')\n",
    "            except Exception as e:\n",
    "                print(e)\n",
    "    model.save(f'models/model_aenc_{N}_500')"
   ]
  }
 ],
 "metadata": {
  "kernelspec": {
   "display_name": "Python 3",
   "language": "python",
   "name": "python3"
  },
  "language_info": {
   "codemirror_mode": {
    "name": "ipython",
    "version": 3
   },
   "file_extension": ".py",
   "mimetype": "text/x-python",
   "name": "python",
   "nbconvert_exporter": "python",
   "pygments_lexer": "ipython3",
   "version": "3.8.3"
  }
 },
 "nbformat": 4,
 "nbformat_minor": 4
}
